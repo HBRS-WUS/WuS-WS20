{
 "cells": [
  {
   "cell_type": "markdown",
   "metadata": {},
   "source": [
    "<div class=\"alert alert-block alert-info\">\n",
    "    <h1>Wahrscheinlichkeitstheorie und Statistik</h1>    \n",
    "    <h3>Informationen zu Übungen mit Jupyter Notebook</h3>\n",
    "    <p></p>\n",
    "</div>"
   ]
  },
  {
   "cell_type": "markdown",
   "metadata": {},
   "source": [
    "## Allgemeine Informationen\n",
    "\n",
    "In diesem Kurs wird Jupyter Notebook mit Python benutzt. Nachfolgend einige generellen Informationen."
   ]
  },
  {
   "cell_type": "markdown",
   "metadata": {},
   "source": [
    "### Was ist ein Jupyter Notebook?\n",
    "\n",
    "Jupyter Notebooks sind eine interaktive Web-Umgebung zur Ausführung, Visualisierung und Dokumentation von Python Code. Jupyter Notebooks werden im Browser ausgeführt.\n",
    "\n",
    "Ein Notebook kann u.a. folgende Inhalte enthalten:\n",
    "\n",
    "- Mathematische Gleichungen (MathJAX / LaTeX)\n",
    "- Textuelle Beschreibungen\n",
    "- Code\n",
    "- Bilder\n",
    "- Diagramme"
   ]
  },
  {
   "cell_type": "markdown",
   "metadata": {},
   "source": [
    "Das typische Interface im Browser sieht wie folgt aus:\n",
    "    \n",
    "<img src=\"images/dashboard.png\">"
   ]
  },
  {
   "cell_type": "markdown",
   "metadata": {},
   "source": [
    "Um ein neues Notebook zu erstellen kann der ```new``` Dialog verwendet werden.\n",
    "\n",
    "<img src=\"images/new_notebook.png\">"
   ]
  },
  {
   "cell_type": "markdown",
   "metadata": {},
   "source": [
    "### Zelltypen\n",
    "\n",
    "Ein Jupyter Notebook besteht aus Zellen die verschiedene Typen haben können.\n",
    "\n",
    "- Code\n",
    "- Markdown / Text\n",
    "- Raw NBConvert"
   ]
  },
  {
   "cell_type": "markdown",
   "metadata": {},
   "source": [
    "#### Code Zellen"
   ]
  },
  {
   "cell_type": "code",
   "execution_count": 1,
   "metadata": {},
   "outputs": [
    {
     "name": "stdout",
     "output_type": "stream",
     "text": [
      "Ich bin eine Code Zelle\n",
      "Das Quadrat von 5 ist 25\n"
     ]
    }
   ],
   "source": [
    "# Dies ist eine Code Zelle\n",
    "# Hier kann jeglicher Python Code stehen\n",
    "\n",
    "print('Ich bin eine Code Zelle')\n",
    "x = 5\n",
    "print('Das Quadrat von {} ist {}'.format(x, x**2))"
   ]
  },
  {
   "cell_type": "markdown",
   "metadata": {},
   "source": [
    "#### Markdown / Text Zellen"
   ]
  },
  {
   "cell_type": "markdown",
   "metadata": {},
   "source": [
    "Die ist eine Markdown Zelle.\n",
    "\n",
    "Beim Ausführen der Zelle wird der Text als HTML gerendert. \n",
    "\n",
    "Hier kann die Markdown Syntax verwendet werden (https://github.com/adam-p/markdown-here/wiki/Markdown-Cheatsheet), LaTeX für mathematische Ausdrücke ($\\sum_{i=0}^{10} i = 55$), HTML Code und einfacher Text.\n",
    "\n",
    "Zur Bearbeitung einer Zelle wird die Zelle mit einem Doppelklick in den Bearbeitungsmodus versetzt. Ein Click auf ```Run``` oder die Tastenkombination ```STRG+ENTER``` führt die Zelle aus und rendert den Inhalt als HTML."
   ]
  },
  {
   "cell_type": "markdown",
   "metadata": {},
   "source": [
    "#### Raw NBConvert"
   ]
  },
  {
   "cell_type": "raw",
   "metadata": {},
   "source": [
    "Dies ist eine Raw NBConvert Zelle. Diese Zelle eignet sich für jegliche Form von Text oder Code die nicht ausgeführt werden kann.\n",
    "\n",
    "Bei einem Klick auf Run passiert somit nichts.\n",
    "\n",
    "Dieser Zelltyp wird in der Übung nicht verwendet."
   ]
  },
  {
   "cell_type": "markdown",
   "metadata": {},
   "source": [
    "### Kernels\n",
    "\n",
    "Um Code ausführen zu können braucht ein Jupyter Notebook einen Kernel. Standardmäßig wird ein eingeschränkter Python 3 Kernel mit Namen ExamKernel benutzt. Dieser lädt bei jedem Start alle Standardbibliotheken für diesen Kurs.\n",
    "\n",
    "Allgemein gibt es Kernels für eine Vielzahl an Programmiersprachen, welche nachinstalliert werden können (https://github.com/jupyter/jupyter/wiki/Jupyter-kernels)\n",
    "\n",
    "Das Kernel Menü sieht wie folgt aus:\n",
    "\n",
    "<img src=\"images/kernel_menu.png\">"
   ]
  },
  {
   "cell_type": "markdown",
   "metadata": {},
   "source": [
    "Im Kernel werden alle Ergebnisse der Ausführung von Code nachgehalten. Bswp führt das Ausführen einer Code Zelle mit ```x = 5``` dazu, dass die Variable ```x``` mit dem Wert ```5``` im Kernel nachgehalten wird.\n",
    "\n",
    "Dieser Wert wird bis zum Überschreiben des Wertes oder bis zum Neustarten eines Kernels nachgehalten.\n",
    "\n",
    "Das Kernel Menü enthält u.a. die folgenden Einträge:\n",
    "\n",
    "- Interrupt (Anhalten des Kernels falls die Ausführung einer Zelle hängt)\n",
    "- Restart (Neustart des Kernels, alles wird vergessen)\n",
    "- Restart & Clear Output (zusätzlich werden alle Ergebnisse von Code Zellen gelöscht)\n",
    "- Restart & Run All (Neustart des Kernels plus Ausführung aller Zellen des Notebooks)\n"
   ]
  },
  {
   "cell_type": "markdown",
   "metadata": {},
   "source": [
    "#### Save & Checkpoint\n",
    "\n",
    "Ein Notebook kann entweder über das Save Icon, die Tastenkombination ```STRG+s``` oder das File Menü gespeichert werden.\n",
    "\n",
    "Zusätzlich kann ein Checkpoint erstellt werden (im File Menü -> Save & Checkpoint).\n",
    "\n",
    "Im Untermenü Revert to Checkpoint kann zu einem vorigen Checkpoint zurückgekehrt werden. Hierbei ist Vorsicht geboten, da alle nachfolgenden Checkpoints gelöscht werden.\n",
    "\n",
    "Darüber hinaus wird das Notebook alle 2 Min automatisch gespeichert."
   ]
  },
  {
   "cell_type": "markdown",
   "metadata": {},
   "source": [
    "#### Tastenkürzel\n",
    "\n",
    "Eine Übersicht über alle Tastenkürzel kann entweder über das Help Menü oder die Tastenkombination ```ESC H``` aufgerufen werden.\n",
    "\n",
    "Eine hilfreiche Tastenkombination in Code Zellen ist ```Shift + Tab``` um sich den Docstring einer Funktion anzeigen zu lassen.\n",
    "\n",
    "<img src=\"images/shift_tab.png\">"
   ]
  },
  {
   "cell_type": "markdown",
   "metadata": {},
   "source": [
    "#### Hausaufgaben\n",
    "\n",
    "Hausaufgaben werden direkt im Hausaufgaben Server heruntergeladen, bearbeitet und abgegeben. Nähere Informationen finden Sie auch unter https://digiklausur.github.io/usage/student.html#assignments (im Abschnitt Assignments).\n",
    "\n",
    "##### 1. Herunterladen\n",
    "\n",
    "Nach dem Einloggen klicken Sie oben auf Assignments. Dort sehen Sie eine Liste der veröffentlichten Hausaufgaben. Klicken Sie auf Fetch um die Hausaufgabe herunterzuladen.\n",
    "\n",
    "##### 2. Bearbeiten\n",
    "\n",
    "Klicken Sie auf die heruntergeladene Hausaufgabe um das Übungsblatt zu öffnen. Speichern Sie regelmäßig!\n",
    "\n",
    "##### 3. Abgabe\n",
    "\n",
    "Nach dem Bearbeiten gehen Sie wieder zum Reiter Assignments und klicken auf Submit. Sie können so oft abgeben wie Sie wollen, es wird jeweils nur die aktuellste Abgabe gewertet."
   ]
  }
 ],
 "metadata": {
  "kernelspec": {
   "display_name": "Python 3",
   "language": "python",
   "name": "python3"
  },
  "language_info": {
   "codemirror_mode": {
    "name": "ipython",
    "version": 3
   },
   "file_extension": ".py",
   "mimetype": "text/x-python",
   "name": "python",
   "nbconvert_exporter": "python",
   "pygments_lexer": "ipython3",
   "version": "3.8.5"
  }
 },
 "nbformat": 4,
 "nbformat_minor": 2
}
